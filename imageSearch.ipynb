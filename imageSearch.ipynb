{
 "cells": [
  {
   "cell_type": "code",
   "execution_count": 27,
   "id": "2e8416c3",
   "metadata": {},
   "source": [
    "import os\n",
    "import nmslib\n",
    "import numpy as np\n",
    "\n",
    "# towhee is a library that converts images into vectors\n",
    "from towhee import AutoPipes\n",
    "\n",
    "# HNSW initialization with Euclidean operations\n",
    "index = nmslib.init(method = 'hnsw', space = 'l2')\n",
    "p = AutoPipes.pipeline('image-embedding')\n",
    "\n",
    "path = './JPEGImages'\n",
    "# get a list of all the images in the JPEGImages directory\n",
    "dir_list = os.listdir(path)\n",
    "\n",
    "length = len(dir_list)\n",
    "\n",
    "for i in range(0, length):\n",
    "    print(f'{i}/{length}')\n",
    "    \n",
    "    # JPEGImages/currentFile\n",
    "    filePath = f'{path}/{dir_list[i]}'\n",
    "    res = p(filePath)\n",
    "    \n",
    "    # adds a node into HNSW\n",
    "    index.addDataPoint(i, res.get())\n",
    "index.createIndex({ 'post': 2 })\n",
    "\n",
    "# True means image and database is saved\n",
    "index.saveIndex('imageDB', True)\n",
    "\n",
    "# Test\n",
    "query = p('./JPEGImages/2012_004330.jpg').get()\n",
    "\n",
    "k = 5\n",
    "\n",
    "ids, distances = index.knnQuery(query, k=k)\n",
    "\n",
    "# Print the results\n",
    "print(\"Query Point:\", query)\n",
    "print(\"Nearest Neighbors:\")\n",
    "for i, idx in enumerate(ids):\n",
    "    print(\"Index:\", idx, \"Distance:\", distances[i])"
   ]
  },
  {
   "cell_type": "code",
   "execution_count": 23,
   "id": "3b3d8884",
   "metadata": {},
   "outputs": [
    {
     "name": "stdout",
     "output_type": "stream",
     "text": [
      "Query Point: [array([0.        , 0.        , 0.        , ..., 0.        , 0.00684197,\n",
      "       0.        ], dtype=float32)]\n",
      "Nearest Neighbors:\n",
      "Index: 16220 Distance: 4.5640078\n",
      "Index: 10817 Distance: 5.899211\n",
      "Index: 214 Distance: 7.199253\n",
      "Index: 10472 Distance: 8.874672\n",
      "Index: 13712 Distance: 9.785667\n"
     ]
    }
   ],
   "source": [
    "import os\n",
    "import nmslib\n",
    "import numpy as np\n",
    "from towhee import AutoPipes\n",
    "import time\n",
    "\n",
    "# PIL (pillow) allows rendering of images in Python\n",
    "from PIL import Image\n",
    "\n",
    "index = nmslib.init(method = 'hnsw', space = 'l2')\n",
    "p = AutoPipes.pipeline('image-embedding')\n",
    "\n",
    "path = './JPEGImages'\n",
    "dir_list = os.listdir(path)\n",
    "\n",
    "index.loadIndex('imageDB', True)\n",
    "\n",
    "# vectorize a form of an image through its URL to be searched\n",
    "# this URL can be changed to any image you would like to search\n",
    "query = p('https://cf.ltkcdn.net/aquariums/fish-names/images/orig/324592-1600x1066-goldfish-swimming-in-fish-tank.jpg').get()\n",
    "\n",
    "# find 5 nearest neighbors\n",
    "k = 5\n",
    "\n",
    "ids, distances = index.knnQuery(query, k = k)\n",
    "\n",
    "print(\"Query Point:\", query)\n",
    "print(\"Nearest Neighbors:\")\n",
    "for i, idx in enumerate(ids):\n",
    "    print(\"Index:\", idx, \"Distance:\", distances[i])\n",
    "    image = Image.open(f'{path}/{dir_list[idx]}')\n",
    "    image.show()\n",
    "    time.sleep(1)"
   ]
  },
  {
   "cell_type": "code",
   "execution_count": null,
   "id": "108201ab",
   "metadata": {},
   "outputs": [],
   "source": []
  }
 ],
 "metadata": {
  "kernelspec": {
   "display_name": "Python 3 (ipykernel)",
   "language": "python",
   "name": "python3"
  },
  "language_info": {
   "codemirror_mode": {
    "name": "ipython",
    "version": 3
   },
   "file_extension": ".py",
   "mimetype": "text/x-python",
   "name": "python",
   "nbconvert_exporter": "python",
   "pygments_lexer": "ipython3",
   "version": "3.10.12"
  }
 },
 "nbformat": 4,
 "nbformat_minor": 5
}
